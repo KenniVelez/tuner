{
 "cells": [
  {
   "cell_type": "code",
   "execution_count": 5,
   "metadata": {},
   "outputs": [],
   "source": [
    "import sys\n",
    "import pathlib\n",
    "p = pathlib.Path('.').absolute().parent\n",
    "sys.path.append(str(p))\n",
    "import tuner.tuner_util"
   ]
  },
  {
   "cell_type": "code",
   "execution_count": 8,
   "metadata": {},
   "outputs": [
    {
     "name": "stdout",
     "output_type": "stream",
     "text": [
      "lowest key n=1: 27.5 Hz, T=36.4 ms\n"
     ]
    }
   ],
   "source": [
    "f = tuner.tuner_util.freq_of_key_88(1)\n",
    "print(\"lowest key n=1:\", f, \"Hz, T={:.3g} ms\".format(1/f*1000))"
   ]
  },
  {
   "cell_type": "code",
   "execution_count": 10,
   "metadata": {},
   "outputs": [
    {
     "name": "stdout",
     "output_type": "stream",
     "text": [
      "highest key n=88: 4186.009044809578 Hz, T=0.239 ms\n"
     ]
    }
   ],
   "source": [
    "f = tuner.tuner_util.freq_of_key_88(88)\n",
    "print(\"highest key n=88:\", f, \"Hz, T={:.3g} ms\".format(1/f*1000))"
   ]
  },
  {
   "cell_type": "code",
   "execution_count": null,
   "metadata": {},
   "outputs": [],
   "source": []
  }
 ],
 "metadata": {
  "kernelspec": {
   "display_name": "Python 3 (ipykernel)",
   "language": "python",
   "name": "python3"
  },
  "language_info": {
   "codemirror_mode": {
    "name": "ipython",
    "version": 3
   },
   "file_extension": ".py",
   "mimetype": "text/x-python",
   "name": "python",
   "nbconvert_exporter": "python",
   "pygments_lexer": "ipython3",
   "version": "3.9.2"
  }
 },
 "nbformat": 4,
 "nbformat_minor": 4
}
