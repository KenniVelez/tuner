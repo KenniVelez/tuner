{
 "cells": [
  {
   "cell_type": "code",
   "execution_count": 11,
   "metadata": {},
   "outputs": [],
   "source": [
    "import tuner_util"
   ]
  },
  {
   "cell_type": "code",
   "execution_count": 6,
   "metadata": {},
   "outputs": [
    {
     "name": "stdout",
     "output_type": "stream",
     "text": [
      "12\n",
      "138.59131548843604 c#\n",
      "146.8323839587038 d\n",
      "155.56349186104046 d#\n",
      "164.81377845643496 e\n",
      "174.61411571650194 f\n",
      "184.9972113558172 f#\n",
      "195.99771799087463 g\n",
      "207.65234878997256 g#\n",
      "220.0 a\n",
      "233.08188075904496 a#\n",
      "246.94165062806206 h\n",
      "261.6255653005986 c\n",
      "277.1826309768721 c#\n",
      "293.6647679174076 d\n",
      "311.1269837220809 d#\n",
      "329.6275569128699 e\n",
      "349.2282314330039 f\n",
      "369.9944227116344 f#\n",
      "391.99543598174927 g\n",
      "415.3046975799451 g#\n",
      "440.0 a\n",
      "466.1637615180899 a#\n",
      "493.8833012561241 h\n",
      "523.2511306011972 c\n",
      "554.3652619537442 c#\n",
      "587.3295358348151 d\n",
      "622.2539674441618 d#\n",
      "659.2551138257398 e\n",
      "698.4564628660078 f\n",
      "739.9888454232688 f#\n",
      "783.9908719634985 g\n",
      "830.6093951598903 g#\n",
      "880.0 a\n",
      "932.3275230361799 a#\n",
      "987.7666025122483 h\n",
      "1046.5022612023945 c\n",
      "1108.7305239074883 c#\n",
      "1174.6590716696303 d\n",
      "1244.5079348883237 d#\n",
      "1318.5102276514797 e\n"
     ]
    }
   ],
   "source": [
    "a = 440\n",
    "t = ['a', 'a#', 'h', 'c', 'c#', 'd', 'd#', 'e', 'f', 'f#', 'g', 'g#']\n",
    "print(len(t))\n",
    "for i in range(-20, 20):\n",
    "    print(440*2**(i/12), t[i%12])"
   ]
  },
  {
   "cell_type": "code",
   "execution_count": 10,
   "metadata": {},
   "outputs": [
    {
     "name": "stdout",
     "output_type": "stream",
     "text": [
      "lowest key n=1: 27.5 Hz, T=36.4 ms\n",
      "highest key n=88: 4186.009044809578 Hz, T=0.239 ms\n"
     ]
    }
   ],
   "source": [
    "f = 2**((1-49)/12)*440\n",
    "print(\"lowest key n=1:\", f, \"Hz, T={:.3g} ms\".format(1/f*1000))\n",
    "\n",
    "f = 2**((88-49)/12)*440\n",
    "print(\"highest key n=88:\", f, \"Hz, T={:.3g} ms\".format(1/f*1000))"
   ]
  },
  {
   "cell_type": "code",
   "execution_count": null,
   "metadata": {},
   "outputs": [],
   "source": []
  }
 ],
 "metadata": {
  "kernelspec": {
   "display_name": "Python 3 (ipykernel)",
   "language": "python",
   "name": "python3"
  },
  "language_info": {
   "codemirror_mode": {
    "name": "ipython",
    "version": 3
   },
   "file_extension": ".py",
   "mimetype": "text/x-python",
   "name": "python",
   "nbconvert_exporter": "python",
   "pygments_lexer": "ipython3",
   "version": "3.9.2"
  }
 },
 "nbformat": 4,
 "nbformat_minor": 4
}
